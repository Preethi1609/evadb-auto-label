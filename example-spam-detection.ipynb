{
 "cells": [
  {
   "cell_type": "markdown",
   "metadata": {},
   "source": [
    "## Youtube comments spam detection using auto-label"
   ]
  },
  {
   "cell_type": "markdown",
   "metadata": {},
   "source": [
    "Import libraries and Setup the API keys:"
   ]
  },
  {
   "cell_type": "code",
   "execution_count": 26,
   "metadata": {},
   "outputs": [],
   "source": [
    "import os\n",
    "import pandas as pd\n",
    "import evadb\n",
    "from dataframe.labeling_agent import LabelingAgent\n",
    "os.environ['OPENAI_API_KEY'] = 'sk-xxx'"
   ]
  },
  {
   "cell_type": "markdown",
   "metadata": {},
   "source": [
    "Declare config and csv file:"
   ]
  },
  {
   "cell_type": "code",
   "execution_count": 27,
   "metadata": {},
   "outputs": [],
   "source": [
    "config = {\n",
    "    \"task_name\": \"SpamClassification\",\n",
    "    \"task_type\": \"classification\",\n",
    "    \"dataset\": {\n",
    "      \"label_column\": \"CLASS\",\n",
    "      \"label_separator\": \", \",\n",
    "      \"delimiter\": \",\"\n",
    "    },\n",
    "    \"model\": {\n",
    "      \"provider\": \"openai\",\n",
    "      \"name\": \"gpt-3.5-turbo\"\n",
    "    },\n",
    "    \"prompt\": {\n",
    "      \"task_guidelines\": \"You are an expert at identifying spam and legitimate messages. Your goal is to maintain the quality of communication by accurately classifying incoming messages as either 'spam' or 'ham' (legitimate). Any message that is unsolicited, contains promotional content, or attempts to deceive or defraud users should be labeled as 'spam'. Messages that are personal, non-promotional, and relevant should be marked as 'ham'. Your job is to correctly label the provided input example into one of the following categories:\\n{labels}\",\n",
    "      \"output_guidelines\": \"You will return the answer as a comma separated list of labels sorted in alphabetical order. For example: \\\"label1, label2, label3\\\"\",\n",
    "      \"labels\": [\n",
    "        \"spam\",\n",
    "        \"ham\"\n",
    "      ],\n",
    "      \"few_shot_examples\": \"spam-ham-label/data/seed.csv\",\n",
    "      \"few_shot_selection\": \"semantic_similarity\",\n",
    "      \"few_shot_num\": 5,\n",
    "      \"example_template\": \"Input: {example}\\nOutput: {labels}\\n\"\n",
    "    }\n",
    "  }\n",
    "  \n",
    "csv_file = \"spam-ham-label/data/test1.csv\"\n",
    "  "
   ]
  },
  {
   "cell_type": "code",
   "execution_count": 28,
   "metadata": {},
   "outputs": [
    {
     "name": "stdout",
     "output_type": "stream",
     "text": [
      "Connected to EvaDB\n"
     ]
    }
   ],
   "source": [
    "cursor = evadb.connect().cursor()\n",
    "print(\"Connected to EvaDB\")"
   ]
  },
  {
   "cell_type": "code",
   "execution_count": 29,
   "metadata": {},
   "outputs": [
    {
     "name": "stderr",
     "output_type": "stream",
     "text": [
      "11-02-2023 22:19:37 WARNING[drop_object_executor:drop_object_executor.py:_handle_drop_function:0086] Function AutoLabel does not exist, therefore cannot be dropped.\n"
     ]
    },
    {
     "name": "stdout",
     "output_type": "stream",
     "text": [
      "Created Function\n"
     ]
    }
   ],
   "source": [
    "create_function_query = f\"\"\"CREATE FUNCTION IF NOT EXISTS AutoLabel\n",
    "            IMPL  './functions/autolabel.py';\n",
    "            \"\"\"\n",
    "cursor.query(\"DROP FUNCTION IF EXISTS AutoLabel;\").execute()\n",
    "cursor.query(create_function_query).execute()\n",
    "print(\"Created Function\")\n",
    "\n",
    "create_table_query = f\"\"\"\n",
    "CREATE TABLE IF NOT EXISTS YTCOMMENTS(\n",
    "COMMENT_ID INTEGER,\n",
    "AUTHOR TEXT(30),\n",
    "DATE TEXT(10),\n",
    "CONTENT TEXT(255)\n",
    ");\n",
    "\"\"\"\n",
    "\n",
    "load_data_query = f\"\"\" LOAD CSV 'spam-ham-label/data/test1.csv' INTO YTCOMMENTS;\"\"\" "
   ]
  },
  {
   "cell_type": "markdown",
   "metadata": {},
   "source": [
    "Create table and load data:"
   ]
  },
  {
   "cell_type": "code",
   "execution_count": 30,
   "metadata": {},
   "outputs": [
    {
     "name": "stderr",
     "output_type": "stream",
     "text": [
      "11-02-2023 22:19:39 WARNING[sqlite_storage_engine:sqlite_storage_engine.py:create:0108] Table {table.name} already exists\n"
     ]
    },
    {
     "data": {
      "text/plain": [
       "<evadb.models.storage.batch.Batch at 0x7ff735339510>"
      ]
     },
     "execution_count": 30,
     "metadata": {},
     "output_type": "execute_result"
    }
   ],
   "source": [
    "cursor.query(create_table_query).execute()\n",
    "cursor.query(load_data_query).execute()"
   ]
  },
  {
   "cell_type": "markdown",
   "metadata": {},
   "source": [
    "Perform Data Labeling:"
   ]
  },
  {
   "cell_type": "code",
   "execution_count": 31,
   "metadata": {},
   "outputs": [
    {
     "name": "stderr",
     "output_type": "stream",
     "text": [
      "/home/preethi/projects/evadb-auto-label/dataframe/labeling_agent.py:13: UserWarning: Pandas doesn't allow columns to be created via a new attribute name - see https://pandas.pydata.org/pandas-docs/stable/indexing.html#attribute-access\n",
      "  self.df = df\n",
      "11-02-2023 22:19:42 ERROR [plan_executor:plan_executor.py:execute_plan:0179] No API key provided. You can set your API key in code using 'openai.api_key = <API-KEY>', or you can set the environment variable OPENAI_API_KEY=<API-KEY>). If your API key is stored in a file, you can point the openai module at it with 'openai.api_key_path = <PATH>'. You can generate API keys in the OpenAI web interface. See https://platform.openai.com/account/api-keys for details.\n",
      "Traceback (most recent call last):\n",
      "  File \"/home/preethi/anaconda3/lib/python3.11/site-packages/evadb/executor/plan_executor.py\", line 175, in execute_plan\n",
      "    yield from output\n",
      "  File \"/home/preethi/anaconda3/lib/python3.11/site-packages/evadb/executor/project_executor.py\", line 49, in exec\n",
      "    batch = apply_project(batch, self.target_list)\n",
      "            ^^^^^^^^^^^^^^^^^^^^^^^^^^^^^^^^^^^^^^\n",
      "  File \"/home/preethi/anaconda3/lib/python3.11/site-packages/evadb/executor/executor_utils.py\", line 69, in apply_project\n",
      "    batches = [expr.evaluate(batch) for expr in project_list]\n",
      "              ^^^^^^^^^^^^^^^^^^^^^^^^^^^^^^^^^^^^^^^^^^^^^^^\n",
      "  File \"/home/preethi/anaconda3/lib/python3.11/site-packages/evadb/executor/executor_utils.py\", line 69, in <listcomp>\n",
      "    batches = [expr.evaluate(batch) for expr in project_list]\n",
      "               ^^^^^^^^^^^^^^^^^^^^\n",
      "  File \"/home/preethi/anaconda3/lib/python3.11/site-packages/evadb/expression/function_expression.py\", line 129, in evaluate\n",
      "    outcomes = self._apply_function_expression(func, batch, **kwargs)\n",
      "               ^^^^^^^^^^^^^^^^^^^^^^^^^^^^^^^^^^^^^^^^^^^^^^^^^^^^^^\n",
      "  File \"/home/preethi/anaconda3/lib/python3.11/site-packages/evadb/expression/function_expression.py\", line 188, in _apply_function_expression\n",
      "    return func_args.apply_function_expression(func)\n",
      "           ^^^^^^^^^^^^^^^^^^^^^^^^^^^^^^^^^^^^^^^^^\n",
      "  File \"/home/preethi/anaconda3/lib/python3.11/site-packages/evadb/models/storage/batch.py\", line 174, in apply_function_expression\n",
      "    return Batch(expr(self._frames))\n",
      "                 ^^^^^^^^^^^^^^^^^^\n",
      "  File \"/home/preethi/anaconda3/lib/python3.11/site-packages/evadb/functions/abstract/abstract_function.py\", line 36, in __call__\n",
      "    return self.forward(args[0])\n",
      "           ^^^^^^^^^^^^^^^^^^^^^\n",
      "  File \"/home/preethi/anaconda3/lib/python3.11/site-packages/evadb/functions/decorators/decorators.py\", line 60, in wrapper\n",
      "    return arg_fn(*args)\n",
      "           ^^^^^^^^^^^^^\n",
      "  File \"/home/preethi/projects/evadb-auto-label/functions/autolabel.py\", line 47, in forward\n",
      "    labelled_df = label_df.label_data(self.config)\n",
      "                  ^^^^^^^^^^^^^^^^^^^^^^^^^^^^^^^^\n",
      "  File \"/home/preethi/projects/evadb-auto-label/dataframe/labeling_agent.py\", line 84, in label_data\n",
      "    answer = openai.ChatCompletion.create(model=\"gpt-3.5-turbo\", \\\n",
      "             ^^^^^^^^^^^^^^^^^^^^^^^^^^^^^^^^^^^^^^^^^^^^^^^^^^^^^\n",
      "  File \"/home/preethi/anaconda3/lib/python3.11/site-packages/openai/api_resources/chat_completion.py\", line 25, in create\n",
      "    return super().create(*args, **kwargs)\n",
      "           ^^^^^^^^^^^^^^^^^^^^^^^^^^^^^^^\n",
      "  File \"/home/preethi/anaconda3/lib/python3.11/site-packages/openai/api_resources/abstract/engine_api_resource.py\", line 149, in create\n",
      "    ) = cls.__prepare_create_request(\n",
      "        ^^^^^^^^^^^^^^^^^^^^^^^^^^^^^\n",
      "  File \"/home/preethi/anaconda3/lib/python3.11/site-packages/openai/api_resources/abstract/engine_api_resource.py\", line 106, in __prepare_create_request\n",
      "    requestor = api_requestor.APIRequestor(\n",
      "                ^^^^^^^^^^^^^^^^^^^^^^^^^^^\n",
      "  File \"/home/preethi/anaconda3/lib/python3.11/site-packages/openai/api_requestor.py\", line 138, in __init__\n",
      "    self.api_key = key or util.default_api_key()\n",
      "                          ^^^^^^^^^^^^^^^^^^^^^^\n",
      "  File \"/home/preethi/anaconda3/lib/python3.11/site-packages/openai/util.py\", line 186, in default_api_key\n",
      "    raise openai.error.AuthenticationError(\n",
      "openai.error.AuthenticationError: No API key provided. You can set your API key in code using 'openai.api_key = <API-KEY>', or you can set the environment variable OPENAI_API_KEY=<API-KEY>). If your API key is stored in a file, you can point the openai module at it with 'openai.api_key_path = <PATH>'. You can generate API keys in the OpenAI web interface. See https://platform.openai.com/account/api-keys for details.\n"
     ]
    },
    {
     "name": "stdout",
     "output_type": "stream",
     "text": [
      "LLM PROMTTT:  You are an expert at identifying spam and legitimate messages. Your goal is to maintain the quality of communication by accurately classifying incoming messages as either 'spam' or 'ham' (legitimate). Any message that is unsolicited, contains promotional content, or attempts to deceive or defraud users should be labeled as 'spam'. Messages that are personal, non-promotional, and relevant should be marked as 'ham'. Your job is to correctly label the provided input example into one of the following categories:\n",
      "spam, ham\n",
      "You will return the answer as a comma separated list of labels sorted in alphabetical order. For example: \"label1, label2, label3\"\n",
      "Some examples with their output answers are provided below:\n",
      "Input: z12bfraboyajftgbz04ccbkr3xjxfxyxsew, Abdullah Fawzi, 2015-05-25 6:25:22, coby this USL and past :<br /><a href=\"http://adf.ly\">http://adf.ly</a> /1HmVtX<br />delete space after y﻿\n",
      "Output: spam\n",
      "Input: z132svd4fvq1wntfd221w5szfzezjri2r, Abdullah Fawzi, 2015-05-25 6:23:24, see this<br /><a href=\"http://adf.ly\">http://adf.ly</a> /1HmVtX﻿\n",
      "Output: spam\n",
      "Input: z132i1cj3t2cedajp04cfxcqalbkfzd5fyk0k, akita hachiko, 2015-05-27 13:07:34, Whose watching this in 2015. If so hi-5﻿\n",
      "Output: ham\n",
      "Input: z134y1ki5svvwt43i23wz5kqsxmaettuu, AlabaGames, 2015-05-22 0:31:44, Subscribe my channel  I RECORDING FIFA 15 GOALS WATCH NOW :D﻿\n",
      "Output: spam\n",
      "Input: z13lvh1qnma4d15sy23lyvqq5riafz52m, Alex John, 2015-05-28 7:44:53, Awesome ﻿\n",
      "Output: ham\n",
      "Input: z13azdiwulmkf5kmr22cwbpq1zrntfxby04, Alexander Solli, 2015-05-24 12:32:19, My uncle said he will stop smoking if this comment gets 500 likes! Please like this comment! Thanks.﻿\n",
      "Output: spam\n",
      "Input: z133stly3kete3tly22petvwdpmghrlli, Analena López, 2015-05-28 17:08:30, shakira is best for worldcup﻿\n",
      "Output: ham\n",
      "Input: z13xwz5p3xq4zxdyv04cir2ammejxj15n2c, Axy665, 2015-05-27 6:57:12, 5 years later i still love this song <br />~Axy665﻿\n",
      "Output: ham\n",
      "\n",
      "Now I want you to label the following example:\n",
      "Input: Empty DataFrame\n",
      "Columns: []\n",
      "Index: []Output: \n"
     ]
    },
    {
     "ename": "ExecutorError",
     "evalue": "No API key provided. You can set your API key in code using 'openai.api_key = <API-KEY>', or you can set the environment variable OPENAI_API_KEY=<API-KEY>). If your API key is stored in a file, you can point the openai module at it with 'openai.api_key_path = <PATH>'. You can generate API keys in the OpenAI web interface. See https://platform.openai.com/account/api-keys for details.",
     "output_type": "error",
     "traceback": [
      "\u001b[0;31m---------------------------------------------------------------------------\u001b[0m",
      "\u001b[0;31mAuthenticationError\u001b[0m                       Traceback (most recent call last)",
      "File \u001b[0;32m~/anaconda3/lib/python3.11/site-packages/evadb/executor/plan_executor.py:175\u001b[0m, in \u001b[0;36mPlanExecutor.execute_plan\u001b[0;34m(self, do_not_raise_exceptions, do_not_print_exceptions)\u001b[0m\n\u001b[1;32m    174\u001b[0m     \u001b[39mif\u001b[39;00m output \u001b[39mis\u001b[39;00m \u001b[39mnot\u001b[39;00m \u001b[39mNone\u001b[39;00m:\n\u001b[0;32m--> 175\u001b[0m         \u001b[39myield from\u001b[39;00m output\n\u001b[1;32m    176\u001b[0m \u001b[39mexcept\u001b[39;00m \u001b[39mException\u001b[39;00m \u001b[39mas\u001b[39;00m e:\n",
      "File \u001b[0;32m~/anaconda3/lib/python3.11/site-packages/evadb/executor/project_executor.py:49\u001b[0m, in \u001b[0;36mProjectExecutor.exec\u001b[0;34m(self, *args, **kwargs)\u001b[0m\n\u001b[1;32m     48\u001b[0m \u001b[39mfor\u001b[39;00m batch \u001b[39min\u001b[39;00m child_executor\u001b[39m.\u001b[39mexec(\u001b[39m*\u001b[39m\u001b[39m*\u001b[39mkwargs):\n\u001b[0;32m---> 49\u001b[0m     batch \u001b[39m=\u001b[39m apply_project(batch, \u001b[39mself\u001b[39m\u001b[39m.\u001b[39mtarget_list)\n\u001b[1;32m     50\u001b[0m     \u001b[39mif\u001b[39;00m \u001b[39mnot\u001b[39;00m batch\u001b[39m.\u001b[39mempty():\n",
      "File \u001b[0;32m~/anaconda3/lib/python3.11/site-packages/evadb/executor/executor_utils.py:69\u001b[0m, in \u001b[0;36mapply_project\u001b[0;34m(batch, project_list)\u001b[0m\n\u001b[1;32m     68\u001b[0m \u001b[39mif\u001b[39;00m \u001b[39mnot\u001b[39;00m batch\u001b[39m.\u001b[39mempty() \u001b[39mand\u001b[39;00m project_list:\n\u001b[0;32m---> 69\u001b[0m     batches \u001b[39m=\u001b[39m [expr\u001b[39m.\u001b[39mevaluate(batch) \u001b[39mfor\u001b[39;00m expr \u001b[39min\u001b[39;00m project_list]\n\u001b[1;32m     70\u001b[0m     batch \u001b[39m=\u001b[39m Batch\u001b[39m.\u001b[39mmerge_column_wise(batches)\n",
      "File \u001b[0;32m~/anaconda3/lib/python3.11/site-packages/evadb/executor/executor_utils.py:69\u001b[0m, in \u001b[0;36m<listcomp>\u001b[0;34m(.0)\u001b[0m\n\u001b[1;32m     68\u001b[0m \u001b[39mif\u001b[39;00m \u001b[39mnot\u001b[39;00m batch\u001b[39m.\u001b[39mempty() \u001b[39mand\u001b[39;00m project_list:\n\u001b[0;32m---> 69\u001b[0m     batches \u001b[39m=\u001b[39m [expr\u001b[39m.\u001b[39mevaluate(batch) \u001b[39mfor\u001b[39;00m expr \u001b[39min\u001b[39;00m project_list]\n\u001b[1;32m     70\u001b[0m     batch \u001b[39m=\u001b[39m Batch\u001b[39m.\u001b[39mmerge_column_wise(batches)\n",
      "File \u001b[0;32m~/anaconda3/lib/python3.11/site-packages/evadb/expression/function_expression.py:129\u001b[0m, in \u001b[0;36mFunctionExpression.evaluate\u001b[0;34m(self, batch, **kwargs)\u001b[0m\n\u001b[1;32m    127\u001b[0m \u001b[39mwith\u001b[39;00m \u001b[39mself\u001b[39m\u001b[39m.\u001b[39m_stats\u001b[39m.\u001b[39mtimer:\n\u001b[1;32m    128\u001b[0m     \u001b[39m# apply the function and project the required columns\u001b[39;00m\n\u001b[0;32m--> 129\u001b[0m     outcomes \u001b[39m=\u001b[39m \u001b[39mself\u001b[39m\u001b[39m.\u001b[39m_apply_function_expression(func, batch, \u001b[39m*\u001b[39m\u001b[39m*\u001b[39mkwargs)\n\u001b[1;32m    131\u001b[0m     \u001b[39m# process outcomes only if output is not empty\u001b[39;00m\n",
      "File \u001b[0;32m~/anaconda3/lib/python3.11/site-packages/evadb/expression/function_expression.py:188\u001b[0m, in \u001b[0;36mFunctionExpression._apply_function_expression\u001b[0;34m(self, func, batch, **kwargs)\u001b[0m\n\u001b[1;32m    187\u001b[0m \u001b[39mif\u001b[39;00m \u001b[39mnot\u001b[39;00m \u001b[39mself\u001b[39m\u001b[39m.\u001b[39m_cache:\n\u001b[0;32m--> 188\u001b[0m     \u001b[39mreturn\u001b[39;00m func_args\u001b[39m.\u001b[39mapply_function_expression(func)\n\u001b[1;32m    190\u001b[0m output_cols \u001b[39m=\u001b[39m [obj\u001b[39m.\u001b[39mname \u001b[39mfor\u001b[39;00m obj \u001b[39min\u001b[39;00m \u001b[39mself\u001b[39m\u001b[39m.\u001b[39mfunction_obj\u001b[39m.\u001b[39moutputs]\n",
      "File \u001b[0;32m~/anaconda3/lib/python3.11/site-packages/evadb/models/storage/batch.py:174\u001b[0m, in \u001b[0;36mBatch.apply_function_expression\u001b[0;34m(self, expr)\u001b[0m\n\u001b[1;32m    173\u001b[0m \u001b[39mself\u001b[39m\u001b[39m.\u001b[39mdrop_column_alias()\n\u001b[0;32m--> 174\u001b[0m \u001b[39mreturn\u001b[39;00m Batch(expr(\u001b[39mself\u001b[39m\u001b[39m.\u001b[39m_frames))\n",
      "File \u001b[0;32m~/anaconda3/lib/python3.11/site-packages/evadb/functions/abstract/abstract_function.py:36\u001b[0m, in \u001b[0;36mAbstractFunction.__call__\u001b[0;34m(self, *args, **kwargs)\u001b[0m\n\u001b[1;32m     35\u001b[0m \u001b[39mdef\u001b[39;00m \u001b[39m__call__\u001b[39m(\u001b[39mself\u001b[39m, \u001b[39m*\u001b[39margs, \u001b[39m*\u001b[39m\u001b[39m*\u001b[39mkwargs):\n\u001b[0;32m---> 36\u001b[0m     \u001b[39mreturn\u001b[39;00m \u001b[39mself\u001b[39m\u001b[39m.\u001b[39mforward(args[\u001b[39m0\u001b[39m])\n",
      "File \u001b[0;32m~/anaconda3/lib/python3.11/site-packages/evadb/functions/decorators/decorators.py:60\u001b[0m, in \u001b[0;36mforward.<locals>.inner_fn.<locals>.wrapper\u001b[0;34m(*args)\u001b[0m\n\u001b[1;32m     58\u001b[0m \u001b[39mdef\u001b[39;00m \u001b[39mwrapper\u001b[39m(\u001b[39m*\u001b[39margs):\n\u001b[1;32m     59\u001b[0m     \u001b[39m# calling the forward function defined by the user inside the function implementation\u001b[39;00m\n\u001b[0;32m---> 60\u001b[0m     \u001b[39mreturn\u001b[39;00m arg_fn(\u001b[39m*\u001b[39margs)\n",
      "File \u001b[0;32m~/projects/evadb-auto-label/functions/autolabel.py:47\u001b[0m, in \u001b[0;36mAutoLabel.forward\u001b[0;34m(self, df)\u001b[0m\n\u001b[1;32m     45\u001b[0m label_df \u001b[39m=\u001b[39m LabelingAgent(df)\n\u001b[0;32m---> 47\u001b[0m labelled_df \u001b[39m=\u001b[39m label_df\u001b[39m.\u001b[39mlabel_data(\u001b[39mself\u001b[39m\u001b[39m.\u001b[39mconfig)\n\u001b[1;32m     48\u001b[0m labelled_df\u001b[39m.\u001b[39mto_csv(\u001b[39m\"\u001b[39m\u001b[39mspam-ham-label/data/labelled_df.csv\u001b[39m\u001b[39m\"\u001b[39m)\n",
      "File \u001b[0;32m~/projects/evadb-auto-label/dataframe/labeling_agent.py:84\u001b[0m, in \u001b[0;36mLabelingAgent.label_data\u001b[0;34m(self, config)\u001b[0m\n\u001b[1;32m     82\u001b[0m prompt \u001b[39m=\u001b[39m \u001b[39mself\u001b[39m\u001b[39m.\u001b[39mgenerate_prompt_classsification_task()\n\u001b[0;32m---> 84\u001b[0m answer \u001b[39m=\u001b[39m openai\u001b[39m.\u001b[39mChatCompletion\u001b[39m.\u001b[39mcreate(model\u001b[39m=\u001b[39m\u001b[39m\"\u001b[39m\u001b[39mgpt-3.5-turbo\u001b[39m\u001b[39m\"\u001b[39m, \\\n\u001b[1;32m     85\u001b[0m                                           temperature\u001b[39m=\u001b[39m\u001b[39m0.2\u001b[39m, \\\n\u001b[1;32m     86\u001b[0m                                           messages\u001b[39m=\u001b[39m[{\u001b[39m\"\u001b[39m\u001b[39mrole\u001b[39m\u001b[39m\"\u001b[39m: \u001b[39m\"\u001b[39m\u001b[39muser\u001b[39m\u001b[39m\"\u001b[39m, \u001b[39m\"\u001b[39m\u001b[39mcontent\u001b[39m\u001b[39m\"\u001b[39m: prompt}])\n\u001b[1;32m     87\u001b[0m \u001b[39mreturn\u001b[39;00m answer\n",
      "File \u001b[0;32m~/anaconda3/lib/python3.11/site-packages/openai/api_resources/chat_completion.py:25\u001b[0m, in \u001b[0;36mChatCompletion.create\u001b[0;34m(cls, *args, **kwargs)\u001b[0m\n\u001b[1;32m     24\u001b[0m \u001b[39mtry\u001b[39;00m:\n\u001b[0;32m---> 25\u001b[0m     \u001b[39mreturn\u001b[39;00m \u001b[39msuper\u001b[39m()\u001b[39m.\u001b[39mcreate(\u001b[39m*\u001b[39margs, \u001b[39m*\u001b[39m\u001b[39m*\u001b[39mkwargs)\n\u001b[1;32m     26\u001b[0m \u001b[39mexcept\u001b[39;00m TryAgain \u001b[39mas\u001b[39;00m e:\n",
      "File \u001b[0;32m~/anaconda3/lib/python3.11/site-packages/openai/api_resources/abstract/engine_api_resource.py:149\u001b[0m, in \u001b[0;36mEngineAPIResource.create\u001b[0;34m(cls, api_key, api_base, api_type, request_id, api_version, organization, **params)\u001b[0m\n\u001b[1;32m    127\u001b[0m \u001b[39m@classmethod\u001b[39m\n\u001b[1;32m    128\u001b[0m \u001b[39mdef\u001b[39;00m \u001b[39mcreate\u001b[39m(\n\u001b[1;32m    129\u001b[0m     \u001b[39mcls\u001b[39m,\n\u001b[0;32m   (...)\u001b[0m\n\u001b[1;32m    136\u001b[0m     \u001b[39m*\u001b[39m\u001b[39m*\u001b[39mparams,\n\u001b[1;32m    137\u001b[0m ):\n\u001b[1;32m    138\u001b[0m     (\n\u001b[1;32m    139\u001b[0m         deployment_id,\n\u001b[1;32m    140\u001b[0m         engine,\n\u001b[1;32m    141\u001b[0m         timeout,\n\u001b[1;32m    142\u001b[0m         stream,\n\u001b[1;32m    143\u001b[0m         headers,\n\u001b[1;32m    144\u001b[0m         request_timeout,\n\u001b[1;32m    145\u001b[0m         typed_api_type,\n\u001b[1;32m    146\u001b[0m         requestor,\n\u001b[1;32m    147\u001b[0m         url,\n\u001b[1;32m    148\u001b[0m         params,\n\u001b[0;32m--> 149\u001b[0m     ) \u001b[39m=\u001b[39m \u001b[39mcls\u001b[39m\u001b[39m.\u001b[39m__prepare_create_request(\n\u001b[1;32m    150\u001b[0m         api_key, api_base, api_type, api_version, organization, \u001b[39m*\u001b[39m\u001b[39m*\u001b[39mparams\n\u001b[1;32m    151\u001b[0m     )\n\u001b[1;32m    153\u001b[0m     response, _, api_key \u001b[39m=\u001b[39m requestor\u001b[39m.\u001b[39mrequest(\n\u001b[1;32m    154\u001b[0m         \u001b[39m\"\u001b[39m\u001b[39mpost\u001b[39m\u001b[39m\"\u001b[39m,\n\u001b[1;32m    155\u001b[0m         url,\n\u001b[0;32m   (...)\u001b[0m\n\u001b[1;32m    160\u001b[0m         request_timeout\u001b[39m=\u001b[39mrequest_timeout,\n\u001b[1;32m    161\u001b[0m     )\n",
      "File \u001b[0;32m~/anaconda3/lib/python3.11/site-packages/openai/api_resources/abstract/engine_api_resource.py:106\u001b[0m, in \u001b[0;36mEngineAPIResource.__prepare_create_request\u001b[0;34m(cls, api_key, api_base, api_type, api_version, organization, **params)\u001b[0m\n\u001b[1;32m    104\u001b[0m     params[\u001b[39m\"\u001b[39m\u001b[39mtimeout\u001b[39m\u001b[39m\"\u001b[39m] \u001b[39m=\u001b[39m MAX_TIMEOUT\n\u001b[0;32m--> 106\u001b[0m requestor \u001b[39m=\u001b[39m api_requestor\u001b[39m.\u001b[39mAPIRequestor(\n\u001b[1;32m    107\u001b[0m     api_key,\n\u001b[1;32m    108\u001b[0m     api_base\u001b[39m=\u001b[39mapi_base,\n\u001b[1;32m    109\u001b[0m     api_type\u001b[39m=\u001b[39mapi_type,\n\u001b[1;32m    110\u001b[0m     api_version\u001b[39m=\u001b[39mapi_version,\n\u001b[1;32m    111\u001b[0m     organization\u001b[39m=\u001b[39morganization,\n\u001b[1;32m    112\u001b[0m )\n\u001b[1;32m    113\u001b[0m url \u001b[39m=\u001b[39m \u001b[39mcls\u001b[39m\u001b[39m.\u001b[39mclass_url(engine, api_type, api_version)\n",
      "File \u001b[0;32m~/anaconda3/lib/python3.11/site-packages/openai/api_requestor.py:138\u001b[0m, in \u001b[0;36mAPIRequestor.__init__\u001b[0;34m(self, key, api_base, api_type, api_version, organization)\u001b[0m\n\u001b[1;32m    137\u001b[0m \u001b[39mself\u001b[39m\u001b[39m.\u001b[39mapi_base \u001b[39m=\u001b[39m api_base \u001b[39mor\u001b[39;00m openai\u001b[39m.\u001b[39mapi_base\n\u001b[0;32m--> 138\u001b[0m \u001b[39mself\u001b[39m\u001b[39m.\u001b[39mapi_key \u001b[39m=\u001b[39m key \u001b[39mor\u001b[39;00m util\u001b[39m.\u001b[39mdefault_api_key()\n\u001b[1;32m    139\u001b[0m \u001b[39mself\u001b[39m\u001b[39m.\u001b[39mapi_type \u001b[39m=\u001b[39m (\n\u001b[1;32m    140\u001b[0m     ApiType\u001b[39m.\u001b[39mfrom_str(api_type)\n\u001b[1;32m    141\u001b[0m     \u001b[39mif\u001b[39;00m api_type\n\u001b[1;32m    142\u001b[0m     \u001b[39melse\u001b[39;00m ApiType\u001b[39m.\u001b[39mfrom_str(openai\u001b[39m.\u001b[39mapi_type)\n\u001b[1;32m    143\u001b[0m )\n",
      "File \u001b[0;32m~/anaconda3/lib/python3.11/site-packages/openai/util.py:186\u001b[0m, in \u001b[0;36mdefault_api_key\u001b[0;34m()\u001b[0m\n\u001b[1;32m    185\u001b[0m \u001b[39melse\u001b[39;00m:\n\u001b[0;32m--> 186\u001b[0m     \u001b[39mraise\u001b[39;00m openai\u001b[39m.\u001b[39merror\u001b[39m.\u001b[39mAuthenticationError(\n\u001b[1;32m    187\u001b[0m         \u001b[39m\"\u001b[39m\u001b[39mNo API key provided. You can set your API key in code using \u001b[39m\u001b[39m'\u001b[39m\u001b[39mopenai.api_key = <API-KEY>\u001b[39m\u001b[39m'\u001b[39m\u001b[39m, or you can set the environment variable OPENAI_API_KEY=<API-KEY>). If your API key is stored in a file, you can point the openai module at it with \u001b[39m\u001b[39m'\u001b[39m\u001b[39mopenai.api_key_path = <PATH>\u001b[39m\u001b[39m'\u001b[39m\u001b[39m. You can generate API keys in the OpenAI web interface. See https://platform.openai.com/account/api-keys for details.\u001b[39m\u001b[39m\"\u001b[39m\n\u001b[1;32m    188\u001b[0m     )\n",
      "\u001b[0;31mAuthenticationError\u001b[0m: No API key provided. You can set your API key in code using 'openai.api_key = <API-KEY>', or you can set the environment variable OPENAI_API_KEY=<API-KEY>). If your API key is stored in a file, you can point the openai module at it with 'openai.api_key_path = <PATH>'. You can generate API keys in the OpenAI web interface. See https://platform.openai.com/account/api-keys for details.",
      "\nDuring handling of the above exception, another exception occurred:\n",
      "\u001b[0;31mExecutorError\u001b[0m                             Traceback (most recent call last)",
      "\u001b[1;32m/home/preethi/projects/evadb-auto-label/example-spam-detection.ipynb Cell 11\u001b[0m line \u001b[0;36m2\n\u001b[1;32m      <a href='vscode-notebook-cell:/home/preethi/projects/evadb-auto-label/example-spam-detection.ipynb#X13sZmlsZQ%3D%3D?line=0'>1</a>\u001b[0m query\u001b[39m=\u001b[39m \u001b[39mf\u001b[39m\u001b[39m\"\"\"\u001b[39m\u001b[39m SELECT AutoLabel() FROM YTCOMMENTS;\u001b[39m\u001b[39m\"\"\"\u001b[39m\n\u001b[0;32m----> <a href='vscode-notebook-cell:/home/preethi/projects/evadb-auto-label/example-spam-detection.ipynb#X13sZmlsZQ%3D%3D?line=1'>2</a>\u001b[0m result \u001b[39m=\u001b[39m cursor\u001b[39m.\u001b[39mquery(query)\u001b[39m.\u001b[39mexecute()\n\u001b[1;32m      <a href='vscode-notebook-cell:/home/preethi/projects/evadb-auto-label/example-spam-detection.ipynb#X13sZmlsZQ%3D%3D?line=2'>3</a>\u001b[0m \u001b[39mprint\u001b[39m(result)\n",
      "File \u001b[0;32m~/anaconda3/lib/python3.11/site-packages/evadb/interfaces/relational/relation.py:141\u001b[0m, in \u001b[0;36mEvaDBQuery.execute\u001b[0;34m(self, drop_alias)\u001b[0m\n\u001b[1;32m    127\u001b[0m \u001b[39mdef\u001b[39;00m \u001b[39mexecute\u001b[39m(\u001b[39mself\u001b[39m, drop_alias: \u001b[39mbool\u001b[39m \u001b[39m=\u001b[39m \u001b[39mTrue\u001b[39;00m) \u001b[39m-\u001b[39m\u001b[39m>\u001b[39m Batch:\n\u001b[1;32m    128\u001b[0m \u001b[39m    \u001b[39m\u001b[39m\"\"\"Transform the relation into a result set\u001b[39;00m\n\u001b[1;32m    129\u001b[0m \n\u001b[1;32m    130\u001b[0m \u001b[39m    Args:\u001b[39;00m\n\u001b[0;32m   (...)\u001b[0m\n\u001b[1;32m    139\u001b[0m \u001b[39m        >>> batch = cursor.query(\"SELECT * FROM MyTable;\").execute()\u001b[39;00m\n\u001b[1;32m    140\u001b[0m \u001b[39m    \"\"\"\u001b[39;00m\n\u001b[0;32m--> 141\u001b[0m     result \u001b[39m=\u001b[39m execute_statement(\u001b[39mself\u001b[39m\u001b[39m.\u001b[39m_evadb, \u001b[39mself\u001b[39m\u001b[39m.\u001b[39m_query_node\u001b[39m.\u001b[39mcopy())\n\u001b[1;32m    142\u001b[0m     \u001b[39m# TODO: this is a dirty implementation. Ideally this should be done in the final projection.\u001b[39;00m\n\u001b[1;32m    143\u001b[0m     \u001b[39mif\u001b[39;00m drop_alias:\n",
      "File \u001b[0;32m~/anaconda3/lib/python3.11/site-packages/evadb/server/command_handler.py:53\u001b[0m, in \u001b[0;36mexecute_statement\u001b[0;34m(evadb, stmt, do_not_raise_exceptions, do_not_print_exceptions, **kwargs)\u001b[0m\n\u001b[1;32m     49\u001b[0m output \u001b[39m=\u001b[39m PlanExecutor(evadb, physical_plan)\u001b[39m.\u001b[39mexecute_plan(\n\u001b[1;32m     50\u001b[0m     do_not_raise_exceptions, do_not_print_exceptions\n\u001b[1;32m     51\u001b[0m )\n\u001b[1;32m     52\u001b[0m \u001b[39mif\u001b[39;00m output:\n\u001b[0;32m---> 53\u001b[0m     batch_list \u001b[39m=\u001b[39m \u001b[39mlist\u001b[39m(output)\n\u001b[1;32m     54\u001b[0m     \u001b[39mreturn\u001b[39;00m Batch\u001b[39m.\u001b[39mconcat(batch_list, copy\u001b[39m=\u001b[39m\u001b[39mFalse\u001b[39;00m)\n",
      "File \u001b[0;32m~/anaconda3/lib/python3.11/site-packages/evadb/executor/plan_executor.py:180\u001b[0m, in \u001b[0;36mPlanExecutor.execute_plan\u001b[0;34m(self, do_not_raise_exceptions, do_not_print_exceptions)\u001b[0m\n\u001b[1;32m    178\u001b[0m \u001b[39mif\u001b[39;00m do_not_print_exceptions \u001b[39mis\u001b[39;00m \u001b[39mFalse\u001b[39;00m:\n\u001b[1;32m    179\u001b[0m     logger\u001b[39m.\u001b[39mexception(\u001b[39mstr\u001b[39m(e))\n\u001b[0;32m--> 180\u001b[0m \u001b[39mraise\u001b[39;00m ExecutorError(e)\n",
      "\u001b[0;31mExecutorError\u001b[0m: No API key provided. You can set your API key in code using 'openai.api_key = <API-KEY>', or you can set the environment variable OPENAI_API_KEY=<API-KEY>). If your API key is stored in a file, you can point the openai module at it with 'openai.api_key_path = <PATH>'. You can generate API keys in the OpenAI web interface. See https://platform.openai.com/account/api-keys for details."
     ]
    }
   ],
   "source": [
    "query= f\"\"\" SELECT AutoLabel() FROM YTCOMMENTS;\"\"\"\n",
    "result = cursor.query(query).execute()\n",
    "print(result)"
   ]
  },
  {
   "cell_type": "markdown",
   "metadata": {},
   "source": [
    "Validate results"
   ]
  },
  {
   "cell_type": "code",
   "execution_count": null,
   "metadata": {},
   "outputs": [],
   "source": [
    "#comapare output and validate csv"
   ]
  }
 ],
 "metadata": {
  "kernelspec": {
   "display_name": "base",
   "language": "python",
   "name": "python3"
  },
  "language_info": {
   "codemirror_mode": {
    "name": "ipython",
    "version": 3
   },
   "file_extension": ".py",
   "mimetype": "text/x-python",
   "name": "python",
   "nbconvert_exporter": "python",
   "pygments_lexer": "ipython3",
   "version": "3.11.4"
  }
 },
 "nbformat": 4,
 "nbformat_minor": 2
}
