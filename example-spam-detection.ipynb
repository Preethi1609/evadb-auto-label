{
 "cells": [
  {
   "cell_type": "markdown",
   "metadata": {},
   "source": [
    "## Youtube comments spam detection using auto-label"
   ]
  },
  {
   "cell_type": "markdown",
   "metadata": {},
   "source": [
    "Import libraries and Setup the API keys:"
   ]
  },
  {
   "cell_type": "code",
   "execution_count": 1,
   "metadata": {},
   "outputs": [],
   "source": [
    "import os\n",
    "import pandas as pd\n",
    "import evadb\n",
    "from dataframe.labeling_agent import LabelingAgent\n",
    "os.environ['OPENAI_API_KEY'] = 'sk-xxx'"
   ]
  },
  {
   "cell_type": "markdown",
   "metadata": {},
   "source": [
    "Declare config and csv file:"
   ]
  },
  {
   "cell_type": "code",
   "execution_count": 2,
   "metadata": {},
   "outputs": [],
   "source": [
    "config = {\n",
    "    \"task_name\": \"SpamClassification\",\n",
    "    \"task_type\": \"classification\",\n",
    "    \"dataset\": {\n",
    "      \"label_column\": \"class\",\n",
    "      \"label_separator\": \", \",\n",
    "      \"delimiter\": \",\"\n",
    "    },\n",
    "    \"prompt\": {\n",
    "      \"task_guidelines\": \"You are an expert at identifying spam and legitimate messages. Your goal is to maintain the quality of communication by accurately classifying incoming messages as either 'spam' or 'ham' (legitimate). Any message that is unsolicited, contains promotional content, or attempts to deceive or defraud users should be labeled as 'spam'. Messages that are personal, non-promotional, and relevant should be marked as 'ham'. Your job is to correctly label the provided input example into one of the following categories:\\n{labels}\",\n",
    "      \"output_guidelines\": \"You will return the answer as a comma separated list of labels sorted in alphabetical order. For example: \\\"label1, label2, label3\\\"\",\n",
    "      \"labels\": [\n",
    "        \"spam\",\n",
    "        \"ham\"\n",
    "      ],\n",
    "      \"few_shot_examples\": \"spam-ham-label/data/seed.csv\",\n",
    "      \"example_template\": \"Input: {example}\\nOutput: {labels}\\n\"\n",
    "    }\n",
    "  }\n",
    "  \n",
    "csv_file = \"spam-ham-label/data/test.csv\"\n",
    "  "
   ]
  },
  {
   "cell_type": "code",
   "execution_count": 3,
   "metadata": {},
   "outputs": [
    {
     "name": "stdout",
     "output_type": "stream",
     "text": [
      "Connected to EvaDB\n"
     ]
    }
   ],
   "source": [
    "cursor = evadb.connect().cursor()\n",
    "print(\"Connected to EvaDB\")"
   ]
  },
  {
   "cell_type": "code",
   "execution_count": 4,
   "metadata": {},
   "outputs": [
    {
     "name": "stderr",
     "output_type": "stream",
     "text": [
      "11-07-2023 00:19:52 WARNING[drop_object_executor:drop_object_executor.py:_handle_drop_function:0086] Function AutoLabel does not exist, therefore cannot be dropped.\n"
     ]
    },
    {
     "name": "stdout",
     "output_type": "stream",
     "text": [
      "Created Function\n"
     ]
    }
   ],
   "source": [
    "create_function_query = f\"\"\"CREATE FUNCTION IF NOT EXISTS AutoLabel\n",
    "            IMPL  './functions/autolabel.py';\n",
    "            \"\"\"\n",
    "cursor.query(\"DROP FUNCTION IF EXISTS AutoLabel;\").execute()\n",
    "cursor.query(create_function_query).execute()\n",
    "print(\"Created Function\")\n",
    "\n",
    "create_table_query = f\"\"\"\n",
    "CREATE TABLE IF NOT EXISTS YTCOMMENTS(\n",
    "comment_id TEXT(200),\n",
    "author TEXT(30),\n",
    "date TEXT(10),\n",
    "content TEXT(255)\n",
    ");\n",
    "\"\"\"\n",
    "\n",
    "load_data_query = f\"\"\" LOAD CSV 'spam-ham-label/data/test.csv' INTO YTCOMMENTS;\"\"\" "
   ]
  },
  {
   "cell_type": "markdown",
   "metadata": {},
   "source": [
    "Create table and load data:"
   ]
  },
  {
   "cell_type": "code",
   "execution_count": 5,
   "metadata": {},
   "outputs": [
    {
     "data": {
      "text/plain": [
       "<evadb.models.storage.batch.Batch at 0x7f460b0ec450>"
      ]
     },
     "execution_count": 5,
     "metadata": {},
     "output_type": "execute_result"
    }
   ],
   "source": [
    "cursor.query(create_table_query).execute()\n",
    "cursor.query(load_data_query).execute()"
   ]
  },
  {
   "cell_type": "markdown",
   "metadata": {},
   "source": [
    "Perform Data Labeling:"
   ]
  },
  {
   "cell_type": "code",
   "execution_count": 6,
   "metadata": {},
   "outputs": [
    {
     "name": "stderr",
     "output_type": "stream",
     "text": [
      "/home/preethi/projects/evadb-auto-label/dataframe/labeling_agent.py:13: UserWarning: Pandas doesn't allow columns to be created via a new attribute name - see https://pandas.pydata.org/pandas-docs/stable/indexing.html#attribute-access\n",
      "  self.df = df\n"
     ]
    },
    {
     "name": "stdout",
     "output_type": "stream",
     "text": [
      "Now I want you to label the following comments:\n",
      "Input: Hello everyone :) I know most of you probably pass up these kind of comments, but for those who are still reading this, thanks! I don’t have any money for advertisements, no chance of getting heard, nothing. I live in such a small town... If this comes off as spam, sorry. I’m an instrumental songwriter from Columbus, Mississippi. Please go to my channel and check out my original music. It would be highly appreciated if you thumbs up this comment so my music can be heard! Thank you, Adam Whitney \n",
      "Input: She is perfect\n",
      "Input: Shakira u are so wiredo\n",
      "Input: :D subscribe to me for daily vines\n",
      "Input: Very nice\n",
      "Input: I really love watching football and also I’ve started off making income with out financial risk from acquiring bonus deals. It’s this weird technique where you wager on something with one bookmakers and bet against it on Betfair. You secure the bonus as income . A chap named Jim Vanstone is finding the wagers free on his own website Vanstone Secrets (Google it!). I’ve made about 500 quid thus far. And it is cost-free. I guess the bookies pay him to obtain new consumers, yet this actually works.\n",
      "\n",
      "RESPONSE: spam, ham, ham, spam, ham, spam\n",
      "                          response\n",
      "0  spam, ham, ham, spam, ham, spam\n"
     ]
    }
   ],
   "source": [
    "query= f\"\"\" SELECT AutoLabel(comment_id, author, date, content) FROM YTCOMMENTS;\"\"\"\n",
    "\n",
    "result = cursor.query(query).execute()\n",
    "print(result)"
   ]
  },
  {
   "cell_type": "markdown",
   "metadata": {},
   "source": [
    "Validate results"
   ]
  },
  {
   "cell_type": "code",
   "execution_count": 9,
   "metadata": {},
   "outputs": [
    {
     "name": "stdout",
     "output_type": "stream",
     "text": [
      "The labeled data CSV is the same as the validate CSV.\n"
     ]
    }
   ],
   "source": [
    "import csv\n",
    "\n",
    "# Function to compare two CSV files\n",
    "def compare_csv_files(file1, file2):\n",
    "    with open(file1, 'r', newline='') as csv_file1, open(file2, 'r', newline='') as csv_file2:\n",
    "        csv_reader1 = csv.reader(csv_file1)\n",
    "        csv_reader2 = csv.reader(csv_file2)\n",
    "\n",
    "        for row1, row2 in zip(csv_reader1, csv_reader2):\n",
    "            if row1 != row2:\n",
    "                return False  # CSV files are different\n",
    "\n",
    "        # Check if one file has more rows than the other\n",
    "        if next(csv_reader1, None) is not None or next(csv_reader2, None) is not None:\n",
    "            return False  # CSV files have different numbers of rows\n",
    "\n",
    "    return True  # CSV files are identical\n",
    "\n",
    "# Paths to the test and validate CSV files\n",
    "test_csv = 'spam-ham-label/data/labeled_data.csv'\n",
    "validate_csv = 'spam-ham-label/data/validate.csv'\n",
    "\n",
    "# Check if the CSV files are identical\n",
    "if compare_csv_files(test_csv, validate_csv):\n",
    "    print(\"The labeled data CSV is the same as the validate CSV.\")\n",
    "else:\n",
    "    print(\"The labeled data CSV is different from the validate CSV.\")\n"
   ]
  }
 ],
 "metadata": {
  "kernelspec": {
   "display_name": "base",
   "language": "python",
   "name": "python3"
  },
  "language_info": {
   "codemirror_mode": {
    "name": "ipython",
    "version": 3
   },
   "file_extension": ".py",
   "mimetype": "text/x-python",
   "name": "python",
   "nbconvert_exporter": "python",
   "pygments_lexer": "ipython3",
   "version": "3.11.4"
  }
 },
 "nbformat": 4,
 "nbformat_minor": 2
}
