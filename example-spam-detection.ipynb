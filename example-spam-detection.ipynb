{
 "cells": [
  {
   "cell_type": "markdown",
   "metadata": {},
   "source": [
    "## Youtube comments spam detection using auto-label"
   ]
  },
  {
   "cell_type": "markdown",
   "metadata": {},
   "source": [
    "Import libraries and Setup the API keys:"
   ]
  },
  {
   "cell_type": "code",
   "execution_count": 1,
   "metadata": {},
   "outputs": [],
   "source": [
    "import os\n",
    "import pandas as pd\n",
    "import evadb\n",
    "from dataframe.labeling_agent import LabelingAgent\n",
    "# os.environ['OPENAI_API_KEY'] = 'sk-xxx'"
   ]
  },
  {
   "cell_type": "markdown",
   "metadata": {},
   "source": [
    "Declare config and csv file:"
   ]
  },
  {
   "cell_type": "code",
   "execution_count": 2,
   "metadata": {},
   "outputs": [],
   "source": [
    "config = {\n",
    "    \"task_name\": \"SpamClassification\",\n",
    "    \"task_type\": \"classification\",\n",
    "    \"dataset\": {\n",
    "      \"label_column\": \"class\",\n",
    "      \"label_separator\": \", \",\n",
    "      \"delimiter\": \",\"\n",
    "    },\n",
    "    \"model\": {\n",
    "      \"provider\": \"openai\",\n",
    "      \"name\": \"gpt-3.5-turbo\"\n",
    "    },\n",
    "    \"prompt\": {\n",
    "      \"task_guidelines\": \"You are an expert at identifying spam and legitimate messages. Your goal is to maintain the quality of communication by accurately classifying incoming messages as either 'spam' or 'ham' (legitimate). Any message that is unsolicited, contains promotional content, or attempts to deceive or defraud users should be labeled as 'spam'. Messages that are personal, non-promotional, and relevant should be marked as 'ham'. Your job is to correctly label the provided input example into one of the following categories:\\n{labels}\",\n",
    "      \"output_guidelines\": \"You will return the answer as a comma separated list of labels sorted in alphabetical order. For example: \\\"label1, label2, label3\\\"\",\n",
    "      \"labels\": [\n",
    "        \"spam\",\n",
    "        \"ham\"\n",
    "      ],\n",
    "      \"few_shot_examples\": \"spam-ham-label/data/seed.csv\",\n",
    "      \"few_shot_selection\": \"semantic_similarity\",\n",
    "      \"few_shot_num\": 5,\n",
    "      \"example_template\": \"Input: {example}\\nOutput: {labels}\\n\"\n",
    "    }\n",
    "  }\n",
    "  \n",
    "csv_file = \"spam-ham-label/data/test.csv\"\n",
    "  "
   ]
  },
  {
   "cell_type": "code",
   "execution_count": 3,
   "metadata": {},
   "outputs": [
    {
     "name": "stdout",
     "output_type": "stream",
     "text": [
      "Connected to EvaDB\n"
     ]
    }
   ],
   "source": [
    "cursor = evadb.connect().cursor()\n",
    "print(\"Connected to EvaDB\")"
   ]
  },
  {
   "cell_type": "code",
   "execution_count": 4,
   "metadata": {},
   "outputs": [
    {
     "name": "stderr",
     "output_type": "stream",
     "text": [
      "11-03-2023 00:23:51 WARNING[drop_object_executor:drop_object_executor.py:_handle_drop_function:0086] Function AutoLabel does not exist, therefore cannot be dropped.\n"
     ]
    },
    {
     "name": "stdout",
     "output_type": "stream",
     "text": [
      "Created Function\n"
     ]
    }
   ],
   "source": [
    "create_function_query = f\"\"\"CREATE FUNCTION IF NOT EXISTS AutoLabel\n",
    "            IMPL  './functions/autolabel.py';\n",
    "            \"\"\"\n",
    "cursor.query(\"DROP FUNCTION IF EXISTS AutoLabel;\").execute()\n",
    "cursor.query(create_function_query).execute()\n",
    "print(\"Created Function\")\n",
    "\n",
    "create_table_query = f\"\"\"\n",
    "CREATE TABLE IF NOT EXISTS YTCOMMENTS(\n",
    "comment_id TEXT(200),\n",
    "author TEXT(30),\n",
    "date TEXT(10),\n",
    "content TEXT(255)\n",
    ");\n",
    "\"\"\"\n",
    "\n",
    "load_data_query = f\"\"\" LOAD CSV 'spam-ham-label/data/test.csv' INTO YTCOMMENTS;\"\"\" "
   ]
  },
  {
   "cell_type": "markdown",
   "metadata": {},
   "source": [
    "Create table and load data:"
   ]
  },
  {
   "cell_type": "code",
   "execution_count": 5,
   "metadata": {},
   "outputs": [
    {
     "data": {
      "text/plain": [
       "<evadb.models.storage.batch.Batch at 0x7fc6df738250>"
      ]
     },
     "execution_count": 5,
     "metadata": {},
     "output_type": "execute_result"
    }
   ],
   "source": [
    "cursor.query(create_table_query).execute()\n",
    "cursor.query(load_data_query).execute()"
   ]
  },
  {
   "cell_type": "markdown",
   "metadata": {},
   "source": [
    "Perform Data Labeling:"
   ]
  },
  {
   "cell_type": "code",
   "execution_count": 6,
   "metadata": {},
   "outputs": [
    {
     "name": "stderr",
     "output_type": "stream",
     "text": [
      "/home/preethi/projects/evadb-auto-label/dataframe/labeling_agent.py:12: UserWarning: Pandas doesn't allow columns to be created via a new attribute name - see https://pandas.pydata.org/pandas-docs/stable/indexing.html#attribute-access\n",
      "  self.df = df\n"
     ]
    },
    {
     "name": "stdout",
     "output_type": "stream",
     "text": [
      "LLM PROMT:  You are an expert at identifying spam and legitimate messages. Your goal is to maintain the quality of communication by accurately classifying incoming messages as either 'spam' or 'ham' (legitimate). Any message that is unsolicited, contains promotional content, or attempts to deceive or defraud users should be labeled as 'spam'. Messages that are personal, non-promotional, and relevant should be marked as 'ham'. Your job is to correctly label the provided input example into one of the following categories:\n",
      "spam, ham\n",
      "You will return the answer as a comma separated list of labels sorted in alphabetical order. For example: \"label1, label2, label3\"\n",
      "Some examples with their output answers are provided below:\n",
      "Input: z12bfraboyajftgbz04ccbkr3xjxfxyxsew, Abdullah Fawzi, 2015-05-25 6:25:22, coby this USL and past :<br /><a href=\"http://adf.ly\">http://adf.ly</a> /1HmVtX<br />delete space after y﻿\n",
      "Output: spam\n",
      "Input: z132svd4fvq1wntfd221w5szfzezjri2r, Abdullah Fawzi, 2015-05-25 6:23:24, see this<br /><a href=\"http://adf.ly\">http://adf.ly</a> /1HmVtX﻿\n",
      "Output: spam\n",
      "Input: z132i1cj3t2cedajp04cfxcqalbkfzd5fyk0k, akita hachiko, 2015-05-27 13:07:34, Whose watching this in 2015. If so hi-5﻿\n",
      "Output: ham\n",
      "Input: z134y1ki5svvwt43i23wz5kqsxmaettuu, AlabaGames, 2015-05-22 0:31:44, Subscribe my channel  I RECORDING FIFA 15 GOALS WATCH NOW :D﻿\n",
      "Output: spam\n",
      "Input: z13lvh1qnma4d15sy23lyvqq5riafz52m, Alex John, 2015-05-28 7:44:53, Awesome ﻿\n",
      "Output: ham\n",
      "Input: z13azdiwulmkf5kmr22cwbpq1zrntfxby04, Alexander Solli, 2015-05-24 12:32:19, My uncle said he will stop smoking if this comment gets 500 likes! Please like this comment! Thanks.﻿\n",
      "Output: spam\n",
      "Input: z133stly3kete3tly22petvwdpmghrlli, Analena López, 2015-05-28 17:08:30, shakira is best for worldcup﻿\n",
      "Output: ham\n",
      "Input: z13xwz5p3xq4zxdyv04cir2ammejxj15n2c, Axy665, 2015-05-27 6:57:12, 5 years later i still love this song <br />~Axy665﻿\n",
      "Output: ham\n",
      "\n",
      "Now I want you to label the following comments:\n",
      "Input: Hello everyone :) I know most of you probably pass up these kind of comments, but for those who are still reading this, thanks! I don’t have any money for advertisements, no chance of getting heard, nothing. I live in such a small town... If this comes off as spam, sorry. I’m an instrumental songwriter from Columbus, Mississippi. Please go to my channel and check out my original music. It would be highly appreciated if you thumbs up this comment so my music can be heard! Thank you, Adam Whitney \n",
      "Input: She is perfect\n",
      "\n",
      "Return the output in the same order as the comments\n",
      "    response\n",
      "0  spam, ham\n"
     ]
    }
   ],
   "source": [
    "# query= f\"\"\" SELECT AutoLabel() FROM YTCOMMENTS;\"\"\"\n",
    "#comment_id, author, date, content\n",
    "query= f\"\"\" SELECT AutoLabel(comment_id, author, date, content) FROM YTCOMMENTS;\"\"\"\n",
    "\n",
    "result = cursor.query(query).execute()\n",
    "print(result)"
   ]
  },
  {
   "cell_type": "markdown",
   "metadata": {},
   "source": [
    "Validate results"
   ]
  },
  {
   "cell_type": "code",
   "execution_count": null,
   "metadata": {},
   "outputs": [],
   "source": [
    "#comapare output and validate csv"
   ]
  }
 ],
 "metadata": {
  "kernelspec": {
   "display_name": "base",
   "language": "python",
   "name": "python3"
  },
  "language_info": {
   "codemirror_mode": {
    "name": "ipython",
    "version": 3
   },
   "file_extension": ".py",
   "mimetype": "text/x-python",
   "name": "python",
   "nbconvert_exporter": "python",
   "pygments_lexer": "ipython3",
   "version": "3.11.4"
  }
 },
 "nbformat": 4,
 "nbformat_minor": 2
}
