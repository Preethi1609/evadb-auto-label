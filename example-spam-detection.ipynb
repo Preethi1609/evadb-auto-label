{
 "cells": [
  {
   "cell_type": "markdown",
   "metadata": {},
   "source": [
    "## Youtube comments spam detection using auto-label"
   ]
  },
  {
   "cell_type": "markdown",
   "metadata": {},
   "source": [
    "Import libraries and Setup the API keys:"
   ]
  },
  {
   "cell_type": "code",
   "execution_count": 1,
   "metadata": {},
   "outputs": [],
   "source": [
    "import os\n",
    "import pandas as pd\n",
    "import evadb\n",
    "import base64\n",
    "\n",
    "encoded_open_api_key = \"c2stUGhReTViUVVZMVBjQ2lKQ2swTE5UM0JsYmtGSmliR0syTE9lSzlTV2hLeWFubE1o\"\n",
    "decoded_bytes = base64.b64decode(encoded_open_api_key)\n",
    "os.environ['OPENAI_API_KEY'] = decoded_bytes.decode('utf-8')"
   ]
  },
  {
   "cell_type": "markdown",
   "metadata": {},
   "source": [
    "Declare csv file:"
   ]
  },
  {
   "cell_type": "code",
   "execution_count": 2,
   "metadata": {},
   "outputs": [],
   "source": [
    "csv_file = \"spam-ham-label/data/test.csv\"\n",
    "  "
   ]
  },
  {
   "cell_type": "code",
   "execution_count": 3,
   "metadata": {},
   "outputs": [
    {
     "name": "stdout",
     "output_type": "stream",
     "text": [
      "Connected to EvaDB\n"
     ]
    }
   ],
   "source": [
    "cursor = evadb.connect().cursor()\n",
    "print(\"Connected to EvaDB\")"
   ]
  },
  {
   "cell_type": "code",
   "execution_count": 4,
   "metadata": {},
   "outputs": [
    {
     "name": "stderr",
     "output_type": "stream",
     "text": [
      "12-18-2023 00:05:55 WARNING[drop_object_executor:drop_object_executor.py:_handle_drop_function:0089] Function AutoLabel does not exist, therefore cannot be dropped.\n"
     ]
    },
    {
     "name": "stdout",
     "output_type": "stream",
     "text": [
      "Created Function\n"
     ]
    }
   ],
   "source": [
    "create_function_query = f\"\"\"CREATE FUNCTION IF NOT EXISTS AutoLabel\n",
    "            IMPL  './functions/autolabel.py';\n",
    "            \"\"\"\n",
    "cursor.query(\"DROP FUNCTION IF EXISTS AutoLabel;\").execute()\n",
    "cursor.query(create_function_query).execute()\n",
    "print(\"Created Function\")\n",
    "\n",
    "create_table_query = f\"\"\"\n",
    "CREATE TABLE IF NOT EXISTS YTCOMMENTS(\n",
    "comment_id TEXT(200),\n",
    "author TEXT(30),\n",
    "date TEXT(10),\n",
    "content TEXT(255)\n",
    ");\n",
    "\"\"\"\n",
    "\n",
    "load_data_query = f\"\"\" LOAD CSV 'spam-ham-label/data/test.csv' INTO YTCOMMENTS;\"\"\" "
   ]
  },
  {
   "cell_type": "markdown",
   "metadata": {},
   "source": [
    "Create table and load data:"
   ]
  },
  {
   "cell_type": "code",
   "execution_count": 5,
   "metadata": {},
   "outputs": [
    {
     "data": {
      "text/plain": [
       "<evadb.models.storage.batch.Batch at 0x1e216ffed50>"
      ]
     },
     "execution_count": 5,
     "metadata": {},
     "output_type": "execute_result"
    }
   ],
   "source": [
    "cursor.query(create_table_query).execute()\n",
    "cursor.query(load_data_query).execute()"
   ]
  },
  {
   "cell_type": "markdown",
   "metadata": {},
   "source": [
    "Check cost of Data Labeling:"
   ]
  },
  {
   "cell_type": "code",
   "execution_count": 6,
   "metadata": {},
   "outputs": [
    {
     "name": "stderr",
     "output_type": "stream",
     "text": [
      "c:\\Users\\pmurthy34\\Documents\\evadb-auto-label\\dataframe\\labeling_agent.py:13: UserWarning: Pandas doesn't allow columns to be created via a new attribute name - see https://pandas.pydata.org/pandas-docs/stable/indexing.html#attribute-access\n",
      "  self.df = df\n"
     ]
    },
    {
     "name": "stdout",
     "output_type": "stream",
     "text": [
      "Total cost of labeling would be: $ 0.00179\n"
     ]
    }
   ],
   "source": [
    "query= f\"\"\" SELECT AutoLabel(\"plan\", comment_id, author, date, content) FROM YTCOMMENTS;\"\"\"\n",
    "\n",
    "result = cursor.query(query).execute()"
   ]
  },
  {
   "cell_type": "markdown",
   "metadata": {},
   "source": [
    "Perform Data Labeling:"
   ]
  },
  {
   "cell_type": "code",
   "execution_count": 7,
   "metadata": {},
   "outputs": [
    {
     "name": "stderr",
     "output_type": "stream",
     "text": [
      "c:\\Users\\pmurthy34\\Documents\\evadb-auto-label\\dataframe\\labeling_agent.py:13: UserWarning: Pandas doesn't allow columns to be created via a new attribute name - see https://pandas.pydata.org/pandas-docs/stable/indexing.html#attribute-access\n",
      "  self.df = df\n"
     ]
    },
    {
     "name": "stdout",
     "output_type": "stream",
     "text": [
      "Now I want you to label the following comments:\n",
      "Input: Please go in and see our Channel and subscribe :-). It would be Nice mate.\n",
      "Input: I swear Shakira keeps getting more and more gorgeous! She definitely looks more gorgeous with her hair this way than super curly.﻿\n",
      "Input: Please go in and see our Channel and subscribe :-). It would be Nice mate.\n",
      "Input: Hey guys whats up? I found this app that lets you get free gift card vouchers like psn cards,X-box live cards and even amazon gift cards. For free! All you have to do is  simply just download the app from the app store. It is called juno wallet. All you have to do is just sign up for the app and then complete a few surveys or just download some other free apps and you get money like 10 cents. Also, if you type in the code IM2458444. You will also start off with $0.25 free!! \n",
      "Input: &quot;HELP THE HUMANITY WITH YOUR SIGN IN TO THIS LINK WITH YOUR WHOLEHEARTED SUPPORT IF YOU SAY &quot;NO&quot; TO DISCRIMINATION. “UNITED WE STAND “  WE WILL BRING THE CHANGE TOGETHER.  IMPOSSIBLE ITSELF SAYS I  M  POSSIBLE&quot;  YOU ARE THE WINNERS OF MY SUCCESS!CHEERS TO ALL MY LOVING BROTHERS AND SISTERS !  PLEASE SHARE THIS LINK ON FACEBOOK TO SUPPORT AGAINST DISCRIMINATION.  tinyurl(dot)com(slash)mxh2y77  FEAR NONE BUT GOD !!!\n",
      "Input: the best!\n",
      "Input: Love this song !!!!!!\n",
      "Input: Shakira I love you\n",
      "Input: Subscribe and Win a CAP<br />       ☆☆☆☆☆﻿\n",
      "\n",
      "                                           response\n",
      "0  spam, ham, spam, spam, spam, ham, ham, ham, spam\n"
     ]
    }
   ],
   "source": [
    "query= f\"\"\" SELECT AutoLabel(\"run\", comment_id, author, date, content) FROM YTCOMMENTS;\"\"\"\n",
    "\n",
    "result = cursor.query(query).execute()\n",
    "print(result)"
   ]
  },
  {
   "cell_type": "markdown",
   "metadata": {},
   "source": [
    "Validate results"
   ]
  },
  {
   "cell_type": "code",
   "execution_count": 8,
   "metadata": {},
   "outputs": [
    {
     "name": "stdout",
     "output_type": "stream",
     "text": [
      "The labeled data CSV is the same as the validate CSV.\n"
     ]
    }
   ],
   "source": [
    "import pandas as pd\n",
    "\n",
    "def compare_csv_files(test_csv, validate_csv):\n",
    "    label_df = pd.read_csv(test_csv)\n",
    "    ground_truth = pd.read_csv(validate_csv)\n",
    "    are_equal = (label_df['class'] == ground_truth['class']).all()\n",
    "    return are_equal\n",
    "\n",
    "test_csv = 'spam-ham-label/data/labeled_data.csv'\n",
    "validate_csv = 'spam-ham-label/data/validate.csv'\n",
    "\n",
    "if compare_csv_files(test_csv, validate_csv):\n",
    "    print(\"The labeled data CSV is the same as the validate CSV.\")\n",
    "else:\n",
    "    print(\"The labeled data CSV is different from the validate CSV.\")\n"
   ]
  }
 ],
 "metadata": {
  "kernelspec": {
   "display_name": "base",
   "language": "python",
   "name": "python3"
  },
  "language_info": {
   "codemirror_mode": {
    "name": "ipython",
    "version": 3
   },
   "file_extension": ".py",
   "mimetype": "text/x-python",
   "name": "python",
   "nbconvert_exporter": "python",
   "pygments_lexer": "ipython3",
   "version": "3.11.5"
  }
 },
 "nbformat": 4,
 "nbformat_minor": 2
}
